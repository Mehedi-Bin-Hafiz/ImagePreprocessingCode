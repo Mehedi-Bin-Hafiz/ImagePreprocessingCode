{
 "cells": [
  {
   "cell_type": "code",
   "execution_count": 2,
   "id": "bf2f945b",
   "metadata": {},
   "outputs": [
    {
     "name": "stdout",
     "output_type": "stream",
     "text": [
      "Image compression completed.\n"
     ]
    }
   ],
   "source": [
    "from PIL import Image\n",
    "import os\n",
    "\n",
    "# Function to resize and compress images in a folder\n",
    "def compress_images_in_folder(folder_path, output_path, max_size_kb=150):\n",
    "    if not os.path.exists(output_path):\n",
    "        os.makedirs(output_path)\n",
    "\n",
    "    for filename in os.listdir(folder_path):\n",
    "        if filename.lower().endswith(('.png', '.jpg', '.jpeg')):\n",
    "            input_file = os.path.join(folder_path, filename)\n",
    "            output_file = os.path.join(output_path, filename)\n",
    "\n",
    "            image = Image.open(input_file)\n",
    "\n",
    "            # Resize the image while maintaining the aspect ratio\n",
    "            base_width = 800  # Change this to your desired width\n",
    "            w_percent = (base_width / float(image.size[0]))\n",
    "            h_size = int((float(image.size[1]) * float(w_percent)))\n",
    "            resized_image = image.resize((base_width, h_size), Image.ANTIALIAS)\n",
    "\n",
    "            # Compress and save the image\n",
    "            resized_image.save(output_file, quality=85)  # Adjust quality as needed\n",
    "\n",
    "# Provide the path to your main folder and specify the output directory\n",
    "main_folder = 'D:\\\\Research database\\\\GourdDataset\\\\rawimage' \n",
    "output_folder = 'D:\\\\Research database\\\\GourdDataset\\\\testing'\n",
    "\n",
    "# Loop through each subfolder and compress images\n",
    "for subfolder_name in os.listdir(main_folder):\n",
    "    subfolder_path = os.path.join(main_folder, subfolder_name)\n",
    "    if os.path.isdir(subfolder_path):\n",
    "        output_subfolder = os.path.join(output_folder, subfolder_name)\n",
    "        compress_images_in_folder(subfolder_path, output_subfolder)\n",
    "\n",
    "print(\"Image compression completed.\")\n"
   ]
  },
  {
   "cell_type": "code",
   "execution_count": null,
   "id": "83bf590e",
   "metadata": {},
   "outputs": [],
   "source": [
    "## this is updated code ##"
   ]
  }
 ],
 "metadata": {
  "kernelspec": {
   "display_name": "venvAI",
   "language": "python",
   "name": "venvai"
  },
  "language_info": {
   "codemirror_mode": {
    "name": "ipython",
    "version": 3
   },
   "file_extension": ".py",
   "mimetype": "text/x-python",
   "name": "python",
   "nbconvert_exporter": "python",
   "pygments_lexer": "ipython3",
   "version": "3.6.8"
  }
 },
 "nbformat": 4,
 "nbformat_minor": 5
}
